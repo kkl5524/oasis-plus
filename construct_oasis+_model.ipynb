{
 "cells": [
  {
   "cell_type": "markdown",
   "metadata": {},
   "source": [
    "# Constructing OASIS+ model"
   ]
  },
  {
   "cell_type": "code",
   "execution_count": 1,
   "metadata": {},
   "outputs": [],
   "source": [
    "import numpy as np\n",
    "import pandas as pd\n",
    "\n",
    "from xgboost.sklearn import XGBClassifier\n",
    "from sklearn.preprocessing import MinMaxScaler\n",
    "\n",
    "from joblib import dump, load\n",
    "\n",
    "\n",
    "seed = 7\n",
    "np.random.seed(7)"
   ]
  },
  {
   "cell_type": "code",
   "execution_count": 2,
   "metadata": {},
   "outputs": [],
   "source": [
    "# load training data\n",
    "train_file = 'data/meta_severity_clean_train_imputed.csv'\n",
    "model_file = 'results/oasis_xgb200.joblib'\n",
    "filter_file = 'results/oasis_filter.joblib'\n",
    "\n",
    "train_df = pd.read_csv(train_file)\n",
    "y_train = train_df['in_hospital_mortality'].values\n"
   ]
  },
  {
   "cell_type": "code",
   "execution_count": 3,
   "metadata": {},
   "outputs": [],
   "source": [
    "# Initialize features, XGB model, and normalization filter\n",
    "features = [\n",
    " 'oasis_age',\n",
    " 'oasis_gcs',\n",
    " 'oasis_heartrate',\n",
    " 'oasis_meanbp',\n",
    " 'oasis_resprate',\n",
    " 'oasis_temp',\n",
    " 'oasis_urineoutput',\n",
    " 'oasis_mechvent',\n",
    " 'oasis_electivesurgery', \n",
    " 'oasis_preiculos'\n",
    "]\n",
    "\n",
    "classifier = XGBClassifier(objective=\"binary:logistic\", n_estimators=200, n_jobs=4, random_state=seed)\n",
    "minMax_filter = MinMaxScaler()\n"
   ]
  },
  {
   "cell_type": "code",
   "execution_count": 4,
   "metadata": {},
   "outputs": [
    {
     "name": "stdout",
     "output_type": "stream",
     "text": [
      "\n",
      "Deploying the learned model\n",
      "Done!\n"
     ]
    }
   ],
   "source": [
    "# Train and output the learned model\n",
    "\n",
    "X_train = train_df[features].values\n",
    "\n",
    "minMax_filter.fit(X_train)\n",
    "X_train = minMax_filter.transform(X_train)\n",
    "classifier.fit(X_train, y_train)\n",
    "\n",
    "print('\\nDeploying the learned model')\n",
    "dump(classifier, model_file) \n",
    "dump(minMax_filter, filter_file)\n",
    "print('Done!')"
   ]
  }
 ],
 "metadata": {
  "kernelspec": {
   "display_name": "Python 3",
   "language": "python",
   "name": "python3"
  },
  "language_info": {
   "codemirror_mode": {
    "name": "ipython",
    "version": 3
   },
   "file_extension": ".py",
   "mimetype": "text/x-python",
   "name": "python",
   "nbconvert_exporter": "python",
   "pygments_lexer": "ipython3",
   "version": "3.6.8"
  }
 },
 "nbformat": 4,
 "nbformat_minor": 2
}
