{
 "cells": [
  {
   "cell_type": "markdown",
   "metadata": {},
   "source": [
    "# Apply OASIS+ model to a test set"
   ]
  },
  {
   "cell_type": "markdown",
   "metadata": {},
   "source": [
    "- This notebook and associated OASIS+ model files allow the application of OASIS+ to an external test set.\n",
    "- The test data should be provided in a comma separated file and the names of the 10 clinical variables used by OASIS+ should follow the names in oasis_variables_dict.\n",
    "- If the true in-hospital mortality labels are included, the script will report performance using five performance metrisc (accuracy, sensitivity, specificity, Mathew's correlation coffecients, and AUC).\n",
    "- This code will run properly in an environment that the libraries in requirements.txt installed.\n",
    "- If you used this code, please cite [1] in README.md file\n",
    "- If you have questions or suggestions, please email yelmanzalawi@geisinger.edu"
   ]
  },
  {
   "cell_type": "code",
   "execution_count": null,
   "metadata": {},
   "outputs": [],
   "source": [
    "# Copyright (c)  2020, Integrative Informatics Research Lab, Geisinger Clinic\n",
    "# All rights reserved.\n",
    "#\n",
    "# Redistribution and use in source and binary forms, with or without\n",
    "# modification, are permitted provided that the following conditions are met:\n",
    "#     * Redistributions of source code must retain the above copyright\n",
    "#       notice, this list of conditions and the following disclaimer.\n",
    "#     * Redistributions in binary form must reproduce the above copyright\n",
    "#       notice, this list of conditions and the following disclaimer in the\n",
    "#       documentation and/or other materials provided with the distribution.\n",
    "#     * Neither the name of the <organization> nor the\n",
    "#       names of its contributors may be used to endorse or promote products\n",
    "#       derived from this software without specific prior written permission.\n",
    "#\n",
    "# THIS SOFTWARE IS PROVIDED BY THE COPYRIGHT HOLDERS AND CONTRIBUTORS \"AS IS\" AND\n",
    "# ANY EXPRESS OR IMPLIED WARRANTIES, INCLUDING, BUT NOT LIMITED TO, THE IMPLIED\n",
    "# WARRANTIES OF MERCHANTABILITY AND FITNESS FOR A PARTICULAR PURPOSE ARE\n",
    "# DISCLAIMED. IN NO EVENT SHALL Yasser El-Manzalawy BE LIABLE FOR ANY\n",
    "# DIRECT, INDIRECT, INCIDENTAL, SPECIAL, EXEMPLARY, OR CONSEQUENTIAL DAMAGES\n",
    "# (INCLUDING, BUT NOT LIMITED TO, PROCUREMENT OF SUBSTITUTE GOODS OR SERVICES;\n",
    "# LOSS OF USE, DATA, OR PROFITS; OR BUSINESS INTERRUPTION) HOWEVER CAUSED AND\n",
    "# ON ANY THEORY OF LIABILITY, WHETHER IN CONTRACT, STRICT LIABILITY, OR TORT\n",
    "# (INCLUDING NEGLIGENCE OR OTHERWISE) ARISING IN ANY WAY OUT OF THE USE OF THIS\n",
    "# SOFTWARE, EVEN IF ADVISED OF THE POSSIBILITY OF SUCH DAMAGE."
   ]
  },
  {
   "cell_type": "code",
   "execution_count": null,
   "metadata": {},
   "outputs": [],
   "source": [
    "%pip install numpy\n",
    "%pip install joblib\n",
    "%pip install pandas\n",
    "%pip install scikit-learn\n",
    "\n",
    "import numpy as np\n",
    "from joblib import load\n",
    "import pandas as pd\n",
    "\n",
    "from sklearn.metrics import roc_curve, matthews_corrcoef, accuracy_score, roc_auc_score, confusion_matrix"
   ]
  },
  {
   "cell_type": "code",
   "execution_count": null,
   "metadata": {},
   "outputs": [],
   "source": [
    "# Helping functions\n",
    "\n",
    "def impute_data(in_file):\n",
    "    \"\"\"\n",
    "    Load and impute test data.\n",
    "    :param in_file csv file including test data. The 10 clinical variables used for computing OASIS score should be named as shown in the oasis_variables_dict.\n",
    "    :return: imputed data as a DataFrame object\n",
    "    \"\"\"\n",
    "    oasis_variables_dict = {\n",
    "     'oasis_age': 21.5,  # normal range is [18, 24]\n",
    "     'oasis_gcs': 15,   # normal range is 15\n",
    "     'oasis_heartrate': 60.5, # normal range is [33,88]\n",
    "     'oasis_meanbp': 102.34,  # normal range is [61.33,143.44]\n",
    "     'oasis_resprate': 17.5,  # normal range is [13,22]\n",
    "     'oasis_temp': 36.64,  # normal range is [36.40, 36.88]\n",
    "     'oasis_urineoutput': 4720,  # normal range is [2544, 6896]\n",
    "     'oasis_mechvent': 0,   # 'No' correspnds to zero subscore\n",
    "     'oasis_electivesurgery': 1,  # 'Yes' corresponds to zero subscore\n",
    "     'oasis_preiculos': 14.5    # normal range is [4.95, 24]\n",
    "    }\n",
    "    df = pd.read_csv(in_file)\n",
    "    for key, value in oasis_variables_dict.items():\n",
    "        df[key] = np.nan_to_num(df[key].values, value)\n",
    "    df = df.fillna(0)\n",
    "    return df\n",
    "    \n",
    "def get_labels (probs, cutoff=0.5):\n",
    "    \"\"\"\n",
    "    Binarize predicted probabilities using the specified threhsold\n",
    "    :param probs: Predicted probabilities.\n",
    "    :param cutoff: Threshold for converting predicted probabilities into binary predictions.\n",
    "    :return: Binary labels.\n",
    "    \"\"\"\n",
    "    size  = np.shape(probs)[0]\n",
    "    labels = np.zeros(size)\n",
    "    for i in range (size):\n",
    "        if (probs[i] < cutoff):\n",
    "            labels[i] = 0\n",
    "        else:\n",
    "            labels[i] = 1\n",
    "    return labels\n",
    "\n",
    "def evaluate(Y_true, Y_pred, cutoff=0.5):\n",
    "    \"\"\"\n",
    "    Given true and predicted probabilities, return Accuracy, Sensitivity, Specificity,  Matthew Correlation Coefficients, and AUC scores.\n",
    "    :param Y_true:\n",
    "    :param Y_pred:\n",
    "    :param cutoff:\n",
    "    :return: Accuracy, Sensitivity, Specificity,  Matthew Correlation Coefficients, and AUC scores.\n",
    "    \"\"\"\n",
    "    Y_score = get_labels(Y_pred, cutoff)\n",
    "    mcc = matthews_corrcoef(Y_true, Y_score)\n",
    "    acc = accuracy_score(Y_true, Y_score)\n",
    "    auc = roc_auc_score(Y_true, Y_pred)\n",
    "    cm = confusion_matrix(Y_true, Y_score, labels=[1,0])\n",
    "    #print(cm)\n",
    "    tp = cm[0,0]\n",
    "    fp = cm[1,0]\n",
    "    tn = cm[1,1]\n",
    "    fn = cm[0,1]\n",
    "    ap = tp + fn\n",
    "    an = tn + fp\n",
    "    total = ap + an\n",
    "    # compute Sn and Sp\n",
    "    sn = tp/ap\n",
    "    sp = tn/an\n",
    "\n",
    "    # return TP, FN, FP, TN, total, acc, Sn, Sp, MCC, AUC\n",
    "    return  np.array([acc, sn, sp, mcc, auc])"
   ]
  },
  {
   "cell_type": "markdown",
   "metadata": {},
   "source": [
    "## Parameters"
   ]
  },
  {
   "cell_type": "code",
   "execution_count": null,
   "metadata": {},
   "outputs": [],
   "source": [
    "# Parameters user-specific parameters\n",
    "\n",
    "# test data\n",
    "test_file = './data/meta_severity_clean_test.csv'  # Please insert the file name and path (e.g., ./data/meta_severity_clean_test.csv)\n",
    "test_lbl = 'in_hospital_mortality'   # Please insert the name of the column including the true labels, otherwise use None\n",
    "threshold = 0.10     # Please insert the threshold for binarizing OASIS+ scores (default is 0.10)\n",
    "\n",
    "# file for saving OASIS+ predicted scores\n",
    "out_file = './data/oasis_preds.csv'   # Please insert the file name and path (e.g., ./data/oasis_preds.csv)"
   ]
  },
  {
   "cell_type": "markdown",
   "metadata": {},
   "source": [
    "### You might not change the code after this line"
   ]
  },
  {
   "cell_type": "code",
   "execution_count": null,
   "metadata": {},
   "outputs": [],
   "source": []
  },
  {
   "cell_type": "code",
   "execution_count": null,
   "metadata": {},
   "outputs": [],
   "source": [
    "# OASIS+ parameters \n",
    "model_file = './deploy/oasis_xgb200.joblib'\n",
    "filter_file = './deploy/oasis_filter.joblib'\n",
    "\n",
    "oasis_variables = [\n",
    " 'oasis_age',\n",
    " 'oasis_gcs',\n",
    " 'oasis_heartrate',\n",
    " 'oasis_meanbp',\n",
    " 'oasis_resprate',\n",
    " 'oasis_temp',\n",
    " 'oasis_urineoutput',\n",
    " 'oasis_mechvent',\n",
    " 'oasis_electivesurgery', \n",
    " 'oasis_preiculos'\n",
    "]"
   ]
  },
  {
   "cell_type": "code",
   "execution_count": null,
   "metadata": {},
   "outputs": [
    {
     "name": "stdout",
     "output_type": "stream",
     "text": [
      "./data/oasis_preds.csv saved!\n"
     ]
    }
   ],
   "source": [
    "# load OASIS+ model\n",
    "\n",
    "oasis_model = load(model_file)\n",
    "oasis_filter = load(filter_file)\n",
    "\n",
    "\n",
    "# load and impute test data\n",
    "test_df = impute_data(test_file)\n",
    "X_test = test_df[oasis_variables].values\n",
    "if test_lbl is not None:\n",
    "    y_test = test_df[test_lbl]\n",
    "    \n",
    "# normalize data\n",
    "X_transformed = oasis_filter.transform(X_test)\n",
    "\n",
    "# get predictions\n",
    "preds = oasis_model.predict_proba(X_transformed)[:,1]\n",
    "pred_lbls = np.zeros_like(preds, dtype=int)\n",
    "pred_lbls[np.where(preds>=threshold)] = 1\n",
    "\n",
    "# save predictions\n",
    "out_df = pd.DataFrame(preds, columns=['OASIS+'])\n",
    "out_df['in-hospital_mortality'] = pred_lbls\n",
    "out_df.to_csv(out_file, index=False)\n",
    "print(out_file + ' saved!')"
   ]
  },
  {
   "cell_type": "code",
   "execution_count": null,
   "metadata": {},
   "outputs": [
    {
     "name": "stdout",
     "output_type": "stream",
     "text": [
      "ACC Sn Sp MCC AUC\n",
      "[0.73384905 0.77733598 0.72873832 0.33159336 0.82771577]\n"
     ]
    }
   ],
   "source": [
    "# Report performance if labels of test data are provided\n",
    "\n",
    "if test_lbl is not None:\n",
    "    print ('ACC Sn Sp MCC AUC')\n",
    "    print(evaluate(y_test, preds, cutoff=threshold))"
   ]
  }
 ],
 "metadata": {
  "kernelspec": {
   "display_name": "Python 3",
   "language": "python",
   "name": "python3"
  },
  "language_info": {
   "codemirror_mode": {
    "name": "ipython",
    "version": 3
   },
   "file_extension": ".py",
   "mimetype": "text/x-python",
   "name": "python",
   "nbconvert_exporter": "python",
   "pygments_lexer": "ipython3",
   "version": "3.6.8"
  }
 },
 "nbformat": 4,
 "nbformat_minor": 2
}
